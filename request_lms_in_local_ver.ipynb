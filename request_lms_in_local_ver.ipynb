{
  "nbformat": 4,
  "nbformat_minor": 0,
  "metadata": {
    "colab": {
      "name": "request_lms_in_local_ver.ipynb",
      "version": "0.3.2",
      "provenance": [],
      "collapsed_sections": [],
      "include_colab_link": true
    },
    "kernelspec": {
      "display_name": "Python 3",
      "language": "python",
      "name": "python3"
    },
    "language_info": {
      "codemirror_mode": {
        "name": "ipython",
        "version": 3
      },
      "file_extension": ".py",
      "mimetype": "text/x-python",
      "name": "python",
      "nbconvert_exporter": "python",
      "pygments_lexer": "ipython3",
      "version": "3.6.5"
    }
  },
  "cells": [
    {
      "cell_type": "markdown",
      "metadata": {
        "id": "view-in-github",
        "colab_type": "text"
      },
      "source": [
        "<a href=\"https://colab.research.google.com/github/Parkhojung/boj/blob/master/request_lms_in_local_ver.ipynb\" target=\"_parent\"><img src=\"https://colab.research.google.com/assets/colab-badge.svg\" alt=\"Open In Colab\"/></a>"
      ]
    },
    {
      "cell_type": "code",
      "metadata": {
        "colab_type": "code",
        "id": "g0NFEyR_v2O_",
        "outputId": "9d704c8e-98e3-4718-ff4c-65b20d6bcea3",
        "colab": {
          "base_uri": "https://localhost:8080/",
          "height": 165
        }
      },
      "source": [
        "# made by Parkhojung \n",
        "# email: parkhj062@gmail.com  \n",
        "# lms.koipa.or.kr의 강의 자료를 저장하기 위한 프로그램입니다.\n",
        "\n",
        "import requests\n",
        "from lxml.html import fromstring\n",
        "from bs4 import BeautifulSoup\n",
        "from pprint import pprint \n",
        "import os\n",
        "import shutil\n",
        "\n",
        "\n",
        "print(\"현재 이 파일이 있는 경로에 폴더가 다수 생성됩니다.\")\n",
        "\n",
        "#사용방법\n",
        "# 1. 로컬에 이 파일을 다운로드하고 주피터 노트북으로 연다.\n",
        "# 2. $$ 부분을 입력한다. 변수 2개 설정, 본인의 이메일, 비밀번호 입력한다.\n",
        "# 3. 실행한다. (shift+ enter)\n",
        "\n",
        "# $$ 이 부분은 사용자가 입력해야 하는 부분이니 신경써서 읽어주세요.\n",
        "\n",
        "# 수업 1번째 날부터 5번째 수업까지 다운로드 받고 싶다면 \n",
        "# start_date_order = 1, total_date_order = 5 으로 변경하세요.\n",
        "# 이 경우는  2019-07-01 ~ 2017-07-05 에 대한 다운로드를 진행합니다.\n",
        "\n",
        "# 현재가 20번째 수업이고 lms 에 계속 들어가서 다운받는 것이 귀찮다면 20,20 으로 설정하고 쉬프트 엔터만 치면 됩니다 :)\n",
        "# 네 번째 주차의 금요일이 되는 수업 중에 사용하셔야겠지요.\n",
        "\n",
        "# 수업이 종강한 후 다운로드를 다 받고 싶다면 1, 40 으로 써주시면 됩니다.\n",
        "\n",
        "# $$\n",
        "\n",
        "start_date_order =           # 정수형으로 입력하세요.\n",
        "total_date_order =           # 정수형으로 입력하세요.\n",
        "LOGIN_EMAIL      = \"\"        # 이메일은 str 타입으로 입력하세요.\n",
        "LOGIN_PASSWORD   = \"\"        # 비밀번호는 str 타입으로 입력하세요.\n",
        "\n",
        "# -----------------------------------------------------------------------------------------------------\n",
        "\n",
        "# 아래는 수정할 경우 작동이 되지 않을 수 있습니다.\n",
        "\n",
        "\n",
        "s = requests.Session()\n",
        "\n",
        "LOGIN_URL = \"https://lms.koipa.or.kr/auth/login\"\n",
        "\n",
        "data = {'email': LOGIN_EMAIL, 'password': LOGIN_PASSWORD, 'next': ''}\n",
        "res = s.post(LOGIN_URL, data, verify=False)\n",
        "res.url\n",
        "\n",
        "res.ok\n",
        "class_html = s.get(\"https://lms.koipa.or.kr/course/17\")\n",
        "soup_course = BeautifulSoup(class_html.text, 'html5lib')\n",
        "soup_course.prettify()\n",
        "\n",
        "# start index 0 in python\n",
        "start_date_order -= 1\n",
        "\n",
        "# download url\n",
        "for date_order in range(start_date_order, total_date_order):\n",
        "    \n",
        "    # parsing tbody\n",
        "    tbody_tag_obj = soup_course.find_all('tbody')[date_order]\n",
        "    \n",
        "    # parsing date for folder name\n",
        "    date = tbody_tag_obj.find(class_='border_bottom border_top')\n",
        "    folder_name = date.attrs['id']\n",
        "    folder_content = tbody_tag_obj.find_all('td')[2].find('span').text\n",
        "    folder_content = \"\".join([x for x in folder_content if x.isalpha()])\n",
        "    \n",
        "    folder_name = folder_name + \" \" + folder_content \n",
        "    print(folder_name)\n",
        "    \n",
        "    # parsing for link and file name\n",
        "    BASE_URL = \"https://lms.koipa.or.kr\"\n",
        "    link_list = []\n",
        "    title_list = []\n",
        "    \n",
        "    a_tag_obj_list = tbody_tag_obj.find_all('a')\n",
        "    for i,u in enumerate(a_tag_obj_list):\n",
        "        \n",
        "      if i >=2 :\n",
        "        link_list.append(BASE_URL+u.attrs['href'])\n",
        "        title_list.append(u.text[1:])\n",
        "\n",
        "    # make directory\n",
        "    try:\n",
        "        shutil.rmtree(folder_name)\n",
        "        print(\"폴더 \"+folder_name+\"이 삭제되었습니다.\")\n",
        "    except Exception as err:\n",
        "        pass\n",
        "        \n",
        "    os.mkdir(folder_name)\n",
        "\n",
        "    # download in directory\n",
        "    for index in range(len(link_list)):\n",
        "        cont = s.get(link_list[index])\n",
        "        title_name = title_list[index]\n",
        "        \n",
        "        with open(folder_name+'\\\\' +title_name, \"wb\") as f:\n",
        "            f.write(cont.content)"
      ],
      "execution_count": 0,
      "outputs": [
        {
          "output_type": "stream",
          "text": [
            "C:\\Users\\user\\Anaconda3\\lib\\site-packages\\urllib3\\connectionpool.py:858: InsecureRequestWarning: Unverified HTTPS request is being made. Adding certificate verification is strongly advised. See: https://urllib3.readthedocs.io/en/latest/advanced-usage.html#ssl-warnings\n",
            "  InsecureRequestWarning)\n",
            "C:\\Users\\user\\Anaconda3\\lib\\site-packages\\urllib3\\connectionpool.py:858: InsecureRequestWarning: Unverified HTTPS request is being made. Adding certificate verification is strongly advised. See: https://urllib3.readthedocs.io/en/latest/advanced-usage.html#ssl-warnings\n",
            "  InsecureRequestWarning)\n",
            "C:\\Users\\user\\Anaconda3\\lib\\site-packages\\urllib3\\connectionpool.py:858: InsecureRequestWarning: Unverified HTTPS request is being made. Adding certificate verification is strongly advised. See: https://urllib3.readthedocs.io/en/latest/advanced-usage.html#ssl-warnings\n",
            "  InsecureRequestWarning)\n"
          ],
          "name": "stderr"
        },
        {
          "output_type": "execute_result",
          "data": {
            "text/plain": [
              "'https://lms.koipa.or.kr/dashboard/'"
            ]
          },
          "metadata": {
            "tags": []
          },
          "execution_count": 1
        }
      ]
    },
    {
      "cell_type": "code",
      "metadata": {
        "id": "lbU0tL0nsJlQ",
        "colab_type": "code",
        "colab": {}
      },
      "source": [
        ""
      ],
      "execution_count": 0,
      "outputs": []
    }
  ]
}